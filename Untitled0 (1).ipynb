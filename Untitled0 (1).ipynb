{
  "nbformat": 4,
  "nbformat_minor": 0,
  "metadata": {
    "colab": {
      "name": "Untitled0.ipynb",
      "provenance": [],
      "collapsed_sections": []
    },
    "kernelspec": {
      "display_name": "Python 3",
      "name": "python3"
    },
    "language_info": {
      "name": "python"
    }
  },
  "cells": [
    {
      "cell_type": "code",
      "metadata": {
        "id": "MTv3zRkLiOp_"
      },
      "source": [
        "# Circle PIE * r * r\n",
        "\n",
        "print ('เครื่องมือหาพื้นที่วงกลม')\n",
        "print ()\n",
        "\n",
        "r = int(input('ใส่รัศมีของวงกลม = '))\n",
        "PIE = (22/7)\n",
        "result = int(PIE * r * r)\n",
        "\n",
        "print ()\n",
        "print ('พื้นที่วงกลมมีค่า = %s cm^2' %result)\n",
        "print ()\n",
        "print ('***********************************************************************************')\n",
        "print ()\n",
        "\n",
        "# 3D Box W * L * H\n",
        "\n",
        "print ('เครื่องมือหาปริมาตรลูกบาสก์')\n",
        "print ()\n",
        "\n",
        "W = int(input('ใส่ความกว้างของลูกบาสก์ = '))\n",
        "L = int(input('ใส่ความยาวของลูกบาสก์  = '))\n",
        "H = int(input('ใส่ความสูงของลูกบาสก์   = '))\n",
        "result = int(W * L * H)\n",
        "\n",
        "print ()\n",
        "print ('ปริมาตรของลูกบาสก์มีค่า = %s cm^3' %result)\n",
        "print ()\n",
        "print ()\n",
        "print ()\n",
        "\n",
        "print ('ได้รึเปล่าครับพี่ ผมลองแปลงจากโค้ดพื้นที่สามเหลี่ยมของพี่ดู')\n",
        "print ('เป็นการเขียนโค้ดครั้งแรก สนุกมากเลยครับ5555')\n",
        "print ('ขอบคุณพี่ๆทุกคนที่เข้ามาสละเวลามาสอนมากๆนะครับ')"
      ],
      "execution_count": null,
      "outputs": []
    }
  ]
}